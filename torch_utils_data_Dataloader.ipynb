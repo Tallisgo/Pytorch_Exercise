{
  "nbformat": 4,
  "nbformat_minor": 0,
  "metadata": {
    "colab": {
      "provenance": []
    },
    "kernelspec": {
      "name": "python3",
      "display_name": "Python 3"
    },
    "language_info": {
      "name": "python"
    }
  },
  "cells": [
    {
      "cell_type": "markdown",
      "source": [
        "# 解读torch.utila.data.Dataloader\n",
        "\n",
        "## demo"
      ],
      "metadata": {
        "id": "g3u_a2a0HQ4k"
      }
    },
    {
      "cell_type": "code",
      "source": [
        "from torch.utils.data import DataLoader, Dataset\n",
        "\n",
        "# 定义一个简单的数据集\n",
        "class MyDataset(Dataset):\n",
        "    def __init__(self, data):\n",
        "        self.data = data\n",
        "\n",
        "    def __len__(self):\n",
        "        return len(self.data)\n",
        "\n",
        "    def __getitem__(self, idx):\n",
        "        return self.data[idx]\n",
        "\n",
        "# 创建数据集和 DataLoader\n",
        "dataset = MyDataset([1, 2, 3, 4, 5])\n",
        "dataloader = DataLoader(dataset, batch_size=2, shuffle=True)\n",
        "\n",
        "# 遍历数据加载器\n",
        "for batch in dataloader:\n",
        "    print(batch)"
      ],
      "metadata": {
        "colab": {
          "base_uri": "https://localhost:8080/"
        },
        "id": "9sbCzBxVL-lK",
        "outputId": "1b631c92-7a4f-4676-ab75-e93436cbbe09"
      },
      "execution_count": 1,
      "outputs": [
        {
          "output_type": "stream",
          "name": "stdout",
          "text": [
            "tensor([4, 2])\n",
            "tensor([1, 5])\n",
            "tensor([3])\n"
          ]
        }
      ]
    },
    {
      "cell_type": "markdown",
      "source": [
        "## iterator 迭代器\n",
        "\n",
        "`迭代器`是一个对象，它能够逐个返回数据，直到数据耗尽\n",
        "\n",
        "### **可迭代对象（Iterable）**\n",
        "\n",
        "- 实现了 `__iter__()` 方法，返回一个迭代器。\n",
        "\n",
        "### **迭代器（Iterator）**\n",
        "\n",
        "- 实现了 `__iter__()` 和 `__next__()` 方法。"
      ],
      "metadata": {
        "id": "UOxxw92aHgGv"
      }
    },
    {
      "cell_type": "code",
      "execution_count": 2,
      "metadata": {
        "colab": {
          "base_uri": "https://localhost:8080/"
        },
        "id": "H_U0xDppHL33",
        "outputId": "55ef467d-6efe-4c71-f8cb-ed94ff68eb7f"
      },
      "outputs": [
        {
          "output_type": "stream",
          "name": "stdout",
          "text": [
            "[1, 2, 3]\n",
            "1\n",
            "2\n",
            "3\n"
          ]
        }
      ],
      "source": [
        "# 定义一个列表，可迭代对象\n",
        "my_list = [1, 2, 3]\n",
        "print(my_list)\n",
        "# 获取列表的迭代器\n",
        "iterator = iter(my_list)\n",
        "\n",
        "print(next(iterator))  # 输出 1\n",
        "print(next(iterator))  # 输出 2\n",
        "print(next(iterator))  # 输出 3"
      ]
    },
    {
      "cell_type": "code",
      "source": [
        "print(next(iterator))"
      ],
      "metadata": {
        "colab": {
          "base_uri": "https://localhost:8080/",
          "height": 141
        },
        "id": "D5WSUeswWh_l",
        "outputId": "c019d9ea-a59c-4f19-fe99-f989d9c27639"
      },
      "execution_count": 3,
      "outputs": [
        {
          "output_type": "error",
          "ename": "StopIteration",
          "evalue": "",
          "traceback": [
            "\u001b[0;31m---------------------------------------------------------------------------\u001b[0m",
            "\u001b[0;31mStopIteration\u001b[0m                             Traceback (most recent call last)",
            "\u001b[0;32m<ipython-input-3-d4aa693aba62>\u001b[0m in \u001b[0;36m<cell line: 1>\u001b[0;34m()\u001b[0m\n\u001b[0;32m----> 1\u001b[0;31m \u001b[0mprint\u001b[0m\u001b[0;34m(\u001b[0m\u001b[0mnext\u001b[0m\u001b[0;34m(\u001b[0m\u001b[0miterator\u001b[0m\u001b[0;34m)\u001b[0m\u001b[0;34m)\u001b[0m\u001b[0;34m\u001b[0m\u001b[0;34m\u001b[0m\u001b[0m\n\u001b[0m",
            "\u001b[0;31mStopIteration\u001b[0m: "
          ]
        }
      ]
    },
    {
      "cell_type": "markdown",
      "source": [
        "## torch.utils.data.Dataloader"
      ],
      "metadata": {
        "id": "A7jRbShEKYBF"
      }
    },
    {
      "cell_type": "markdown",
      "source": [
        "## sampler\n",
        "\n",
        "`sampler`是控制数据加载顺序的核心组件，它定义了数据集中的样本如何被选择\n",
        "\n",
        "- 随机采样（`RandomSampler`）：用于打乱数据以提升模型泛化能力。\n",
        "- 顺序采样（`SequentialSampler`）：用于按顺序加载数据，例如测试集。\n",
        "- 自定义采样：用于平衡类别、不均匀数据分布或实现特定采样逻辑。\n",
        "\n",
        "如果用户不显式指定 `sampler` 参数，`DataLoader` 会根据 `shuffle` 参数选择默认的 `Sampler`:\n",
        "\n",
        "- **`shuffle=False`**：使用 `SequentialSampler`，按样本索引顺序加载数据。\n",
        "- **`shuffle=True`**：使用 `RandomSampler`，随机打乱数据。"
      ],
      "metadata": {
        "id": "qfwT0ipuWyCr"
      }
    },
    {
      "cell_type": "code",
      "source": [
        "range(10)"
      ],
      "metadata": {
        "colab": {
          "base_uri": "https://localhost:8080/"
        },
        "id": "SH_oopoRVf0U",
        "outputId": "a367643f-e685-41c0-ad6a-964ac02b73cc"
      },
      "execution_count": 4,
      "outputs": [
        {
          "output_type": "execute_result",
          "data": {
            "text/plain": [
              "range(0, 10)"
            ]
          },
          "metadata": {},
          "execution_count": 4
        }
      ]
    },
    {
      "cell_type": "code",
      "source": [
        "\n",
        "from torch.utils.data import Sampler\n",
        "\n",
        "class MySampler(Sampler):\n",
        "    def __init__(self, data_source):\n",
        "        self.data_source = data_source\n",
        "\n",
        "    def __iter__(self):\n",
        "        # 返回样本索引的迭代器\n",
        "        return iter(range(len(self.data_source)))\n",
        "\n",
        "    def __len__(self):\n",
        "        return len(self.data_source)\n",
        "\n",
        "dataset = range(10)\n",
        "sampler = MySampler(dataset)\n",
        "print(list(sampler))  # 输出：[0, 1, 2, 3, 4, 5, 6, 7, 8, 9]\n"
      ],
      "metadata": {
        "colab": {
          "base_uri": "https://localhost:8080/"
        },
        "id": "fJexefrIWwBk",
        "outputId": "0ba26f4b-02d8-48b0-c993-c52e5994fb56"
      },
      "execution_count": 5,
      "outputs": [
        {
          "output_type": "stream",
          "name": "stdout",
          "text": [
            "[0, 1, 2, 3, 4, 5, 6, 7, 8, 9]\n"
          ]
        }
      ]
    },
    {
      "cell_type": "markdown",
      "source": [
        "### SequentialSampler\n",
        "\n",
        "按顺序采样数据。适合测试集、验证集等不需要随机化的任务"
      ],
      "metadata": {
        "id": "T7D0jmeZXOMx"
      }
    },
    {
      "cell_type": "code",
      "source": [
        "from torch.utils.data import SequentialSampler\n",
        "\n",
        "sampler = SequentialSampler(range(10))\n",
        "print(list(sampler))  # 输出：[0, 1, 2, 3, 4, 5, 6, 7, 8, 9]"
      ],
      "metadata": {
        "colab": {
          "base_uri": "https://localhost:8080/"
        },
        "id": "7sPxIqywXMKz",
        "outputId": "27975005-1f89-48ac-a8e2-bd1e91589d52"
      },
      "execution_count": 6,
      "outputs": [
        {
          "output_type": "stream",
          "name": "stdout",
          "text": [
            "[0, 1, 2, 3, 4, 5, 6, 7, 8, 9]\n"
          ]
        }
      ]
    },
    {
      "cell_type": "markdown",
      "source": [
        "### RandomSampler\n",
        "\n",
        "随机打乱数据顺序，适合训练集。"
      ],
      "metadata": {
        "id": "6AQ1_sMDXXU7"
      }
    },
    {
      "cell_type": "code",
      "source": [
        "\n",
        "from torch.utils.data import RandomSampler\n",
        "\n",
        "sampler = RandomSampler(range(10))\n",
        "print(list(sampler))  # 输出示例：[7, 2, 5, 8, 3, 6, 1, 0, 9, 4]\n"
      ],
      "metadata": {
        "colab": {
          "base_uri": "https://localhost:8080/"
        },
        "id": "HkykYsTNXUuM",
        "outputId": "f4ab548c-54f6-4f9c-c869-f27ea399ff78"
      },
      "execution_count": 7,
      "outputs": [
        {
          "output_type": "stream",
          "name": "stdout",
          "text": [
            "[9, 0, 7, 8, 2, 5, 4, 3, 1, 6]\n"
          ]
        }
      ]
    },
    {
      "cell_type": "code",
      "source": [
        "sampler"
      ],
      "metadata": {
        "colab": {
          "base_uri": "https://localhost:8080/"
        },
        "id": "7ZR0lo9IXc1T",
        "outputId": "93361ece-77b6-4615-ec60-449b9a7a351e"
      },
      "execution_count": null,
      "outputs": [
        {
          "output_type": "execute_result",
          "data": {
            "text/plain": [
              "<torch.utils.data.sampler.RandomSampler at 0x7e5e34d65420>"
            ]
          },
          "metadata": {},
          "execution_count": 12
        }
      ]
    },
    {
      "cell_type": "code",
      "source": [],
      "metadata": {
        "id": "HigijuLZXjuy"
      },
      "execution_count": null,
      "outputs": []
    },
    {
      "cell_type": "markdown",
      "source": [
        "## collate_fn\n",
        "\n",
        "用于定义如何将单个样本组合成一个批次。它的作用在于将多个样本（通常是单个数据点）聚合成一个可以输入到模型中的批次。不同的任务和数据类型（如图像、文本、序列等）可能需要不同的 collate_fn。"
      ],
      "metadata": {
        "id": "CXGHMziXXkR2"
      }
    },
    {
      "cell_type": "markdown",
      "source": [
        "### 默认的collate_fn\n",
        "\n",
        "PyTorch 默认的 `collate_fn` 主要处理以下几种情况：\n",
        "\n",
        "- **数值型数据**（如整数或浮点数）：直接堆叠成一个张量（`torch.Tensor`）。\n",
        "- **字典或列表**：如果样本本身是字典或列表，它会将字典或列表的每个元素进行堆叠。\n",
        "\n",
        "例如，若数据集中的每个样本都是一个数值，默认的 `collate_fn` 会将它们堆叠成一个 `Tensor`："
      ],
      "metadata": {
        "id": "eTEk3RmmXuFh"
      }
    },
    {
      "cell_type": "code",
      "source": [
        "\n",
        "from torch.utils.data import DataLoader\n",
        "\n",
        "data = [1, 2, 3, 4]\n",
        "dataloader = DataLoader(data, batch_size=2)\n",
        "\n",
        "for batch in dataloader:\n",
        "    print(batch)\n",
        "\n"
      ],
      "metadata": {
        "colab": {
          "base_uri": "https://localhost:8080/"
        },
        "id": "YYctx3KgXey7",
        "outputId": "867d6afa-be1a-4c9a-d62c-e10cacd55542"
      },
      "execution_count": 8,
      "outputs": [
        {
          "output_type": "stream",
          "name": "stdout",
          "text": [
            "tensor([1, 2])\n",
            "tensor([3, 4])\n"
          ]
        }
      ]
    },
    {
      "cell_type": "markdown",
      "source": [
        "### 自定义 collate_fn\n",
        "\n",
        "- **变长序列**（如文本、时间序列等），需要填充（padding）到相同的长度。\n",
        "- **图像和标签**，可能需要同时对图像和标签进行特定的处理\n",
        "\n",
        "----"
      ],
      "metadata": {
        "id": "CBZTQ9TvX4KH"
      }
    },
    {
      "cell_type": "markdown",
      "source": [
        "* 变长序列"
      ],
      "metadata": {
        "id": "Orb6PsRVYpj9"
      }
    },
    {
      "cell_type": "code",
      "source": [
        "\n",
        "import torch\n",
        "from torch.utils.data import DataLoader\n",
        "\n",
        "def collate_fn(batch):\n",
        "    # 假设 batch 是 [(text1), (text2), ...]，每个 text 是一个不同长度的序列\n",
        "    # 填充文本到同一长度\n",
        "    texts, lengths = zip(*batch)\n",
        "    padded_texts = torch.nn.utils.rnn.pad_sequence(texts, batch_first=True, padding_value=0)\n",
        "    return padded_texts, torch.tensor(lengths)\n",
        "\n",
        "# 示例数据：[(句子1，长度1), (句子2，长度2), ...]\n",
        "data = [(torch.tensor([1, 2]), 2), (torch.tensor([3, 4, 5]), 3)]\n",
        "dataloader = DataLoader(data, batch_size=2, collate_fn=collate_fn)\n",
        "\n",
        "for batch in dataloader:\n",
        "    padded_texts, lengths = batch\n",
        "    print(padded_texts)\n",
        "    print(lengths)\n",
        "\n"
      ],
      "metadata": {
        "colab": {
          "base_uri": "https://localhost:8080/"
        },
        "id": "aL6Fex_RX07M",
        "outputId": "103f1b72-cfaf-4e67-b7d6-2bbd8752db66"
      },
      "execution_count": 9,
      "outputs": [
        {
          "output_type": "stream",
          "name": "stdout",
          "text": [
            "tensor([[1, 2, 0],\n",
            "        [3, 4, 5]])\n",
            "tensor([2, 3])\n"
          ]
        }
      ]
    },
    {
      "cell_type": "markdown",
      "source": [
        "* 图像和标签的组合"
      ],
      "metadata": {
        "id": "uHVwKkzCYm4p"
      }
    },
    {
      "cell_type": "code",
      "source": [
        "import torch\n",
        "from torch.utils.data import DataLoader\n",
        "from PIL import Image\n",
        "from torchvision import transforms\n",
        "\n",
        "def collate_fn(batch):\n",
        "    images, labels = zip(*batch)\n",
        "    # 将图像转为张量并堆叠\n",
        "    transform = transforms.ToTensor()\n",
        "    images = torch.stack([transform(image).float() for image in images])\n",
        "    # 将标签堆叠成一个张量\n",
        "    labels = torch.tensor(labels)\n",
        "    return images, labels\n",
        "\n",
        "# 示例数据：[(图像1, 标签1), (图像2, 标签2), ...]\n",
        "data = [(Image.new('RGB', (100, 100), color='red'), 0),\n",
        "        (Image.new('RGB', (100, 100), color='blue'), 1)]\n",
        "dataloader = DataLoader(data, batch_size=2, collate_fn=collate_fn)\n",
        "\n",
        "for batch in dataloader:\n",
        "    images, labels = batch\n",
        "    print(images.shape)  # 输出：torch.Size([2, 100, 100, 3])\n",
        "    print(labels)  # 输出：tensor([0, 1])"
      ],
      "metadata": {
        "colab": {
          "base_uri": "https://localhost:8080/"
        },
        "id": "MX85GlcsYAHc",
        "outputId": "5b6b21fe-c11e-4399-e386-75f000ec94a0"
      },
      "execution_count": 10,
      "outputs": [
        {
          "output_type": "stream",
          "name": "stdout",
          "text": [
            "torch.Size([2, 3, 100, 100])\n",
            "tensor([0, 1])\n"
          ]
        }
      ]
    },
    {
      "cell_type": "markdown",
      "source": [],
      "metadata": {
        "id": "PDbYjEC3YCvQ"
      }
    }
  ]
}